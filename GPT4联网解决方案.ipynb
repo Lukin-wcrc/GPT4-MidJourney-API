{
  "cells": [
    {
      "cell_type": "code",
      "source": [
        "!pip install openai\n",
        "!pip install baiduspider"
      ],
      "metadata": {
        "id": "cq_SnAt4F_Be",
        "outputId": "a3ef1759-1d54-448e-fb44-72bf40f4c9c7",
        "colab": {
          "base_uri": "https://localhost:8080/"
        }
      },
      "execution_count": 30,
      "outputs": [
        {
          "output_type": "stream",
          "name": "stdout",
          "text": [
            "Collecting openai\n",
            "  Downloading openai-0.27.8-py3-none-any.whl (73 kB)\n",
            "\u001b[?25l     \u001b[90m━━━━━━━━━━━━━━━━━━━━━━━━━━━━━━━━━━━━━━━━\u001b[0m \u001b[32m0.0/73.6 kB\u001b[0m \u001b[31m?\u001b[0m eta \u001b[36m-:--:--\u001b[0m\r\u001b[2K     \u001b[90m━━━━━━━━━━━━━━━━━━━━━━━━━━━━━━━━━━━━━━━━\u001b[0m \u001b[32m73.6/73.6 kB\u001b[0m \u001b[31m3.9 MB/s\u001b[0m eta \u001b[36m0:00:00\u001b[0m\n",
            "\u001b[?25hRequirement already satisfied: requests>=2.20 in /usr/local/lib/python3.10/dist-packages (from openai) (2.27.1)\n",
            "Requirement already satisfied: tqdm in /usr/local/lib/python3.10/dist-packages (from openai) (4.65.0)\n",
            "Requirement already satisfied: aiohttp in /usr/local/lib/python3.10/dist-packages (from openai) (3.8.4)\n",
            "Requirement already satisfied: urllib3<1.27,>=1.21.1 in /usr/local/lib/python3.10/dist-packages (from requests>=2.20->openai) (1.26.16)\n",
            "Requirement already satisfied: certifi>=2017.4.17 in /usr/local/lib/python3.10/dist-packages (from requests>=2.20->openai) (2023.5.7)\n",
            "Requirement already satisfied: charset-normalizer~=2.0.0 in /usr/local/lib/python3.10/dist-packages (from requests>=2.20->openai) (2.0.12)\n",
            "Requirement already satisfied: idna<4,>=2.5 in /usr/local/lib/python3.10/dist-packages (from requests>=2.20->openai) (3.4)\n",
            "Requirement already satisfied: attrs>=17.3.0 in /usr/local/lib/python3.10/dist-packages (from aiohttp->openai) (23.1.0)\n",
            "Requirement already satisfied: multidict<7.0,>=4.5 in /usr/local/lib/python3.10/dist-packages (from aiohttp->openai) (6.0.4)\n",
            "Requirement already satisfied: async-timeout<5.0,>=4.0.0a3 in /usr/local/lib/python3.10/dist-packages (from aiohttp->openai) (4.0.2)\n",
            "Requirement already satisfied: yarl<2.0,>=1.0 in /usr/local/lib/python3.10/dist-packages (from aiohttp->openai) (1.9.2)\n",
            "Requirement already satisfied: frozenlist>=1.1.1 in /usr/local/lib/python3.10/dist-packages (from aiohttp->openai) (1.3.3)\n",
            "Requirement already satisfied: aiosignal>=1.1.2 in /usr/local/lib/python3.10/dist-packages (from aiohttp->openai) (1.3.1)\n",
            "Installing collected packages: openai\n",
            "Successfully installed openai-0.27.8\n",
            "Requirement already satisfied: baiduspider in /usr/local/lib/python3.10/dist-packages (1.0.2.6)\n",
            "Requirement already satisfied: requests>=2.25.1 in /usr/local/lib/python3.10/dist-packages (from baiduspider) (2.27.1)\n",
            "Requirement already satisfied: bs4>=0.0.1 in /usr/local/lib/python3.10/dist-packages (from baiduspider) (0.0.1)\n",
            "Requirement already satisfied: beautifulsoup4 in /usr/local/lib/python3.10/dist-packages (from bs4>=0.0.1->baiduspider) (4.11.2)\n",
            "Requirement already satisfied: urllib3<1.27,>=1.21.1 in /usr/local/lib/python3.10/dist-packages (from requests>=2.25.1->baiduspider) (1.26.16)\n",
            "Requirement already satisfied: certifi>=2017.4.17 in /usr/local/lib/python3.10/dist-packages (from requests>=2.25.1->baiduspider) (2023.5.7)\n",
            "Requirement already satisfied: charset-normalizer~=2.0.0 in /usr/local/lib/python3.10/dist-packages (from requests>=2.25.1->baiduspider) (2.0.12)\n",
            "Requirement already satisfied: idna<4,>=2.5 in /usr/local/lib/python3.10/dist-packages (from requests>=2.25.1->baiduspider) (3.4)\n",
            "Requirement already satisfied: soupsieve>1.2 in /usr/local/lib/python3.10/dist-packages (from beautifulsoup4->bs4>=0.0.1->baiduspider) (2.4.1)\n"
          ]
        }
      ]
    },
    {
      "cell_type": "code",
      "source": [
        "from baiduspider import BaiduSpider\n",
        "from pprint import pprint\n",
        "\n",
        "spider = BaiduSpider()\n",
        "# pprint(spider.search_jingyan(query=\"鲁迅\").plain)\n",
        "pprint([data['des'] for data in spider.search_jingyan(query=\"鲁迅\").plain])"
      ],
      "metadata": {
        "id": "TMZ0-XGIC6wh",
        "outputId": "4be3d35b-aae2-48cc-8729-856541394e4c",
        "colab": {
          "base_uri": "https://localhost:8080/"
        }
      },
      "execution_count": 38,
      "outputs": [
        {
          "output_type": "stream",
          "name": "stdout",
          "text": [
            "['青年时期的鲁迅的性格特点：面对困难迎难而上，甘于清贫。鲁迅是一个面对困难迎难而上的人，从他的文章中就可以看出来，面对敌人临危不惧。鲁迅也是一个勤劳认真的人，在他的散文中就可以看出来，鲁迅讲他学习时候的事...',\n",
            " '如何制作关于“鲁迅手抄报”呢？接下来就由小编来给大家分步骤讲解白纸彩笔第一步，白纸中上方画上一个文本框，准备写“鲁迅手抄报”的标题。第二步，在文本框内写上“鲁迅手抄报”，明确主题。第三步，在白纸右上角画...',\n",
            " '鲁迅的手抄报画报、画笔第一步，画报的上边，画上一个文本框，准备写“鲁迅手抄报”画报标题。第二步，画好的文本框内写上“鲁迅手抄报”，表达主题。第三步，右上角画上小鸟的图案最为点缀，装饰“鲁迅手抄报”画报。...',\n",
            " '本经验主要来介绍认识鲁迅的手抄报应该怎么做。彩笔画纸首先在手抄报的正上方表达主题，写上“认识鲁迅”。然后在手抄报的左侧上半部分画出与主题认识鲁迅关联的卡通图1。接着在手抄报的左侧下半部分描绘与主题认识鲁迅...',\n",
            " '鲁迅的童年手抄报画报、画笔第一步，画报的上边，画上一个文本框，准备写“鲁迅的童年手抄报”画报标题。第二步，画好的文本框内写上“鲁迅的童年手抄报”，表达主题。第三步，右上角画上小鸟的图案最为点缀，装饰“鲁迅...',\n",
            " '走进鲁迅手抄报，下面教大家怎样画这幅手抄报。白纸铅笔彩笔首先我们在上方写上主题“走进鲁迅”，左上方画上鲁迅先生的画像，左下方画上三味书屋，右上方画上鲁迅的头像，右下方画一个内容框，准备写上“走进鲁迅”手...',\n",
            " '关于鲁迅的手抄报，下面教大家怎样画这幅手抄报。白纸铅笔彩笔首先我们在上方写上主题“鲁迅”，左上方画上鲁迅先生的画像，左下方画上三味书屋，右下方画上鲁迅的头像，中间画一个书卷样式的内容框，下方画上一个云朵...',\n",
            " '首先在纸上画出鲁迅的发型，然后在下面画出鲁迅的五官和烟斗，烟斗是从嘴巴上伸出来，然后在正下方画上身体和长衫，一只手托着自己的烟斗，最后画上鲁迅的鞋子，伟大的鲁迅就画好了。...',\n",
            " '鲁迅（1881年9月25日－1936年10月19日），原名周樟寿，后改名周树人，字豫山，后改豫才，“鲁迅”是他1918年发表《狂人日记》时所用的笔名，也是他影响最为广泛的笔名，浙江绍兴人。鲁迅一生在文学...',\n",
            " '鲁迅是绍兴的名人，鲁迅故里是专门为鲁迅建造的，喜爱他文学作品，或对他感兴趣的人可以去游玩一下。到达绍兴到达绍兴，可去公交车站坐车到鲁迅故里。可以先去鲁迅祖居，那里可以直达一代文豪少年时的居住地，可以望望...']\n"
          ]
        }
      ]
    },
    {
      "cell_type": "code",
      "source": [
        "import requests\n",
        "import json\n",
        "from baiduspider import BaiduSpider\n",
        "\n",
        "spider = BaiduSpider()\n",
        "\n",
        "\n",
        "ask = input('请输入你的问题：')\n",
        "prompt = '用户提问如下：' + ask + '\\n请结合下面网络搜索的结果回答上述问题!\\n网络搜索结果：\\n' + str([data['des'] for data in spider.search_jingyan(query=ask).plain])\n",
        "\n",
        "\n",
        "OPENAI_API_KEY = 'OCNjyzx7tm17oWDYcNyaC9btrXOKaSsp90eIK_uB-ZY'\n",
        "headers = {\n",
        "    \"Authorization\": f\"Bearer {OPENAI_API_KEY}\",\n",
        "    \"Content-Type\": \"application/json\"\n",
        "}\n",
        "\n",
        "data = {\n",
        "    \"model\": \"gpt-4\",\n",
        "    \"messages\": [\n",
        "        {\"role\": \"system\", \"content\": \"You are a helpful assistant.\"},\n",
        "        {\"role\": \"user\", \"content\": prompt}\n",
        "    ]\n",
        "}\n",
        "\n",
        "response = requests.post('https://chimeragpt.adventblocks.cc/v1/chat/completions', headers=headers, data=json.dumps(data))\n",
        "\n",
        "print(response.json()['choices'][0]['message']['content'])"
      ],
      "metadata": {
        "id": "caT0gpHNEQHY",
        "outputId": "2f2397ca-42ad-4e6a-cdac-da3e4a9fdd28",
        "colab": {
          "base_uri": "https://localhost:8080/"
        }
      },
      "execution_count": 46,
      "outputs": [
        {
          "output_type": "stream",
          "name": "stdout",
          "text": [
            "请输入你的问题：蔡徐坤怎么了？\n",
            "蔡徐坤（KUN）是一位中国内地男歌手、原创音乐制作人、MV导演和演员。他出生于1998年8月2日，籍贯湖南怀化。2018年1月，他参加了《偶像练习生》节目，以总票数第一C位出道。他的经纪公司是蔡徐坤工作室。\n",
            "\n",
            "蔡徐坤的知名歌曲包括《情人》、《YOUNG》、《没有意外》、《重生》和《Pull Up》。他还是中国内地流行乐男子演唱组合NINE PERCENT的队长及C位，该组合由蔡徐坤、陈立农、范丞丞、黄明昊、林彦俊、朱正廷、王子异、小鬼和尤长靖组成。\n",
            "\n",
            "蔡徐坤非常珍视梦想、自信和粉丝，他在《偶像练习生》节目中曾表示最害怕失去这三样东西。他的人气很高，许多粉丝喜欢绘制他的简笔画或者将他的形象加入到游戏中。\n"
          ]
        }
      ]
    },
    {
      "cell_type": "code",
      "source": [],
      "metadata": {
        "id": "_QaC7lZlJhKT"
      },
      "execution_count": null,
      "outputs": []
    }
  ],
  "metadata": {
    "colab": {
      "name": "scratchpad",
      "provenance": []
    },
    "kernelspec": {
      "display_name": "Python 3",
      "name": "python3"
    }
  },
  "nbformat": 4,
  "nbformat_minor": 0
}